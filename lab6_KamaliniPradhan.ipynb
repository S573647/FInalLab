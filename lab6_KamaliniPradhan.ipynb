{
 "cells": [
  {
   "cell_type": "markdown",
   "metadata": {},
   "source": [
    "### Author's Information\n",
    "1. Name: Kamalini Pradhan\n",
    "2. Date: 08/2/2024\n",
    "3. Purpose: Explore data and regression"
   ]
  },
  {
   "cell_type": "markdown",
   "metadata": {},
   "source": [
    "## Question 1\n",
    "### 1. Prepare the data and display data set head"
   ]
  },
  {
   "cell_type": "code",
   "execution_count": 3,
   "metadata": {},
   "outputs": [
    {
     "data": {
      "text/html": [
       "<div>\n",
       "<style scoped>\n",
       "    .dataframe tbody tr th:only-of-type {\n",
       "        vertical-align: middle;\n",
       "    }\n",
       "\n",
       "    .dataframe tbody tr th {\n",
       "        vertical-align: top;\n",
       "    }\n",
       "\n",
       "    .dataframe thead th {\n",
       "        text-align: right;\n",
       "    }\n",
       "</style>\n",
       "<table border=\"1\" class=\"dataframe\">\n",
       "  <thead>\n",
       "    <tr style=\"text-align: right;\">\n",
       "      <th></th>\n",
       "      <th>mpg</th>\n",
       "      <th>cylinders</th>\n",
       "      <th>displacement</th>\n",
       "      <th>horsepower</th>\n",
       "      <th>weight</th>\n",
       "      <th>acceleration</th>\n",
       "      <th>model year</th>\n",
       "      <th>origin</th>\n",
       "      <th>car name</th>\n",
       "    </tr>\n",
       "  </thead>\n",
       "  <tbody>\n",
       "    <tr>\n",
       "      <th>0</th>\n",
       "      <td>18.0</td>\n",
       "      <td>8</td>\n",
       "      <td>307.0</td>\n",
       "      <td>130</td>\n",
       "      <td>3504</td>\n",
       "      <td>12.0</td>\n",
       "      <td>70</td>\n",
       "      <td>1</td>\n",
       "      <td>chevrolet chevelle malibu</td>\n",
       "    </tr>\n",
       "    <tr>\n",
       "      <th>1</th>\n",
       "      <td>15.0</td>\n",
       "      <td>8</td>\n",
       "      <td>350.0</td>\n",
       "      <td>165</td>\n",
       "      <td>3693</td>\n",
       "      <td>11.5</td>\n",
       "      <td>70</td>\n",
       "      <td>1</td>\n",
       "      <td>buick skylark 320</td>\n",
       "    </tr>\n",
       "    <tr>\n",
       "      <th>2</th>\n",
       "      <td>18.0</td>\n",
       "      <td>8</td>\n",
       "      <td>318.0</td>\n",
       "      <td>150</td>\n",
       "      <td>3436</td>\n",
       "      <td>11.0</td>\n",
       "      <td>70</td>\n",
       "      <td>1</td>\n",
       "      <td>plymouth satellite</td>\n",
       "    </tr>\n",
       "    <tr>\n",
       "      <th>3</th>\n",
       "      <td>16.0</td>\n",
       "      <td>8</td>\n",
       "      <td>304.0</td>\n",
       "      <td>150</td>\n",
       "      <td>3433</td>\n",
       "      <td>12.0</td>\n",
       "      <td>70</td>\n",
       "      <td>1</td>\n",
       "      <td>amc rebel sst</td>\n",
       "    </tr>\n",
       "    <tr>\n",
       "      <th>4</th>\n",
       "      <td>17.0</td>\n",
       "      <td>8</td>\n",
       "      <td>302.0</td>\n",
       "      <td>140</td>\n",
       "      <td>3449</td>\n",
       "      <td>10.5</td>\n",
       "      <td>70</td>\n",
       "      <td>1</td>\n",
       "      <td>ford torino</td>\n",
       "    </tr>\n",
       "  </tbody>\n",
       "</table>\n",
       "</div>"
      ],
      "text/plain": [
       "    mpg  cylinders  displacement horsepower  weight  acceleration  model year  \\\n",
       "0  18.0          8         307.0        130    3504          12.0          70   \n",
       "1  15.0          8         350.0        165    3693          11.5          70   \n",
       "2  18.0          8         318.0        150    3436          11.0          70   \n",
       "3  16.0          8         304.0        150    3433          12.0          70   \n",
       "4  17.0          8         302.0        140    3449          10.5          70   \n",
       "\n",
       "   origin                   car name  \n",
       "0       1  chevrolet chevelle malibu  \n",
       "1       1          buick skylark 320  \n",
       "2       1         plymouth satellite  \n",
       "3       1              amc rebel sst  \n",
       "4       1                ford torino  "
      ]
     },
     "execution_count": 3,
     "metadata": {},
     "output_type": "execute_result"
    }
   ],
   "source": [
    "import pandas as pd\n",
    "# Load the CSV file\n",
    "file_name = 'auto-mpg.csv'\n",
    "autompg_df = pd.read_csv(file_name, sep=\",\")\n",
    "autompg_df.head()"
   ]
  },
  {
   "cell_type": "markdown",
   "metadata": {},
   "source": [
    "### 2. distributions of features in autompg data set"
   ]
  },
  {
   "cell_type": "code",
   "execution_count": 10,
   "metadata": {},
   "outputs": [
    {
     "data": {
      "text/plain": [
       "array([[<Axes: title={'center': 'mpg'}>,\n",
       "        <Axes: title={'center': 'cylinders'}>,\n",
       "        <Axes: title={'center': 'displacement'}>],\n",
       "       [<Axes: title={'center': 'weight'}>,\n",
       "        <Axes: title={'center': 'acceleration'}>,\n",
       "        <Axes: title={'center': 'model year'}>],\n",
       "       [<Axes: title={'center': 'origin'}>, <Axes: >, <Axes: >]],\n",
       "      dtype=object)"
      ]
     },
     "execution_count": 10,
     "metadata": {},
     "output_type": "execute_result"
    },
    {
     "data": {
      "image/png": "[encoded data removed]",
      "text/plain": [
       "<Figure size 640x480 with 9 Axes>"
      ]
     },
     "metadata": {},
     "output_type": "display_data"
    }
   ],
   "source": [
    "autompg_df.hist(bins=10)"
   ]
  },
  {
   "cell_type": "markdown",
   "metadata": {},
   "source": [
    "## Question 2 with two input features\n",
    "### Train/Test Split, Train and evaluate a linear regression model"
   ]
  },
  {
   "cell_type": "code",
   "execution_count": 30,
   "metadata": {},
   "outputs": [
    {
     "name": "stdout",
     "output_type": "stream",
     "text": [
      "Train size:  318 Test size:  80\n",
      "Results for linear regression on training data\n",
      " Default settings\n",
      "Internal parameters:\n",
      " Bias is  43.6214339764433\n",
      " Coefficients [-0.00556012 -0.01801839]\n",
      " Score 0.7024820582511935\n",
      "MAE is  3.2290037032091616\n",
      "RMSE is  4.2789696537676765\n",
      "MSE is  18.309581297864668\n",
      "R^2  0.7024820582511935\n",
      "\n",
      "Results for linear regression on test data\n",
      "MAE is  3.498068972202958\n",
      "RMSE is  4.343131313113013\n",
      "MSE is  18.862789602942765\n",
      "R^2  0.6765950182605449\n"
     ]
    }
   ],
   "source": [
    "from sklearn.linear_model import LinearRegression\n",
    "from sklearn.metrics import mean_absolute_error\n",
    "from sklearn.metrics import mean_squared_error\n",
    "from sklearn.metrics import r2_score\n",
    "import numpy as np\n",
    "from sklearn.model_selection import train_test_split\n",
    "train_set, test_set = train_test_split(autompg_df,\n",
    " test_size=0.2, random_state=123)\n",
    "print('Train size: ', len(train_set), 'Test size: ', len(test_set))\n",
    "\n",
    "X = train_set[['weight','displacement']]\n",
    "y = train_set['mpg']\n",
    "X_test = test_set[['weight','displacement']]\n",
    "y_test = test_set['mpg']\n",
    "lr_model = LinearRegression()\n",
    "lr_model.fit(X,y)\n",
    "y_pred = lr_model.predict(X)\n",
    "print('Results for linear regression on training data')\n",
    "print(' Default settings')\n",
    "print('Internal parameters:')\n",
    "print(' Bias is ', lr_model.intercept_)\n",
    "print(' Coefficients', lr_model.coef_)\n",
    "print(' Score', lr_model.score(X,y))\n",
    "print('MAE is ', mean_absolute_error(y, y_pred))\n",
    "print('RMSE is ', np.sqrt(mean_squared_error(y, y_pred)))\n",
    "print('MSE is ', mean_squared_error(y, y_pred))\n",
    "print('R^2 ', r2_score(y,y_pred))\n",
    "\n",
    "y_test_pred = lr_model.predict(X_test)\n",
    "print()\n",
    "print('Results for linear regression on test data')\n",
    "print('MAE is ', mean_absolute_error(y_test, y_test_pred))\n",
    "print('RMSE is ', np.sqrt(mean_squared_error(y_test,\n",
    "y_test_pred)))\n",
    "print('MSE is ', mean_squared_error(y_test, y_test_pred))\n",
    "print('R^2 ', r2_score(y_test,y_test_pred))"
   ]
  },
  {
   "cell_type": "markdown",
   "metadata": {},
   "source": [
    "#### Results\n",
    "Basic results for our regression models to predict mpg on the autompg data set\n",
    "| Model | Training Features | Set | RMSE | R2 |\n",
    "|:---|:---|:---|:---|:---|\n",
    "|Linear Regression|weight, displacement|Training|4.28|0.70|\n",
    "|Linear Regression|weight, displacement|Testing|4.34|0.68|"
   ]
  },
  {
   "cell_type": "markdown",
   "metadata": {},
   "source": [
    "## Question 2 with three input features\n",
    "### Train/Test Split, Train and evaluate a linear regression model"
   ]
  },
  {
   "cell_type": "code",
   "execution_count": 32,
   "metadata": {},
   "outputs": [
    {
     "name": "stdout",
     "output_type": "stream",
     "text": [
      "Results for linear regression on training data\n",
      " Default settings\n",
      "Internal parameters:\n",
      " Bias is  43.77549037402719\n",
      " Coefficients [-0.00555388 -0.0170216  -0.06697977]\n",
      " Score 0.7025032179949249\n",
      "MAE is  3.227310276049987\n",
      "RMSE is  4.2788174889760535\n",
      "MSE is  18.30827910396734\n",
      "R^2  0.7025032179949249\n",
      "\n",
      "Results for linear regression on test data\n",
      "MAE is  3.494275224823241\n",
      "RMSE is  4.339204235916795\n",
      "MSE is  18.828693400998255\n",
      "R^2  0.6771796020787055\n"
     ]
    }
   ],
   "source": [
    "from sklearn.linear_model import LinearRegression\n",
    "from sklearn.metrics import mean_absolute_error\n",
    "from sklearn.metrics import mean_squared_error\n",
    "from sklearn.metrics import r2_score\n",
    "import numpy as np\n",
    "from sklearn.model_selection import train_test_split\n",
    "'''\n",
    "train_set, test_set = train_test_split(autompg_df,\n",
    " test_size=0.2, random_state=123)\n",
    "print('Train size: ', len(train_set), 'Test size: ', len(test_set))\n",
    "'''\n",
    "\n",
    "X = train_set[['weight','displacement', 'cylinders']]\n",
    "y = train_set['mpg']\n",
    "X_test = test_set[['weight','displacement', 'cylinders']]\n",
    "y_test = test_set['mpg']\n",
    "lr_model = LinearRegression()\n",
    "lr_model.fit(X,y)\n",
    "y_pred = lr_model.predict(X)\n",
    "print('Results for linear regression on training data')\n",
    "print(' Default settings')\n",
    "print('Internal parameters:')\n",
    "print(' Bias is ', lr_model.intercept_)\n",
    "print(' Coefficients', lr_model.coef_)\n",
    "print(' Score', lr_model.score(X,y))\n",
    "print('MAE is ', mean_absolute_error(y, y_pred))\n",
    "print('RMSE is ', np.sqrt(mean_squared_error(y, y_pred)))\n",
    "print('MSE is ', mean_squared_error(y, y_pred))\n",
    "print('R^2 ', r2_score(y,y_pred))\n",
    "\n",
    "y_test_pred = lr_model.predict(X_test)\n",
    "print()\n",
    "print('Results for linear regression on test data')\n",
    "print('MAE is ', mean_absolute_error(y_test, y_test_pred))\n",
    "print('RMSE is ', np.sqrt(mean_squared_error(y_test,\n",
    "y_test_pred)))\n",
    "print('MSE is ', mean_squared_error(y_test, y_test_pred))\n",
    "print('R^2 ', r2_score(y_test,y_test_pred))"
   ]
  },
  {
   "cell_type": "markdown",
   "metadata": {},
   "source": [
    "#### Results\n",
    "Basic results for our regression models to predict mpg on the autompg data set\n",
    "| Model | Training Features | Set | RMSE | R2 |\n",
    "|:---|:---|:---|:---|:---|\n",
    "|Linear Regression|weight, displacement, cylinders|Training|4.28|0.70|\n",
    "|Linear Regression|weight, displacement, cylinders|Testing|4.34|0.68|"
   ]
  },
  {
   "cell_type": "markdown",
   "metadata": {},
   "source": [
    "### Pipeline for regression model"
   ]
  },
  {
   "cell_type": "code",
   "execution_count": 33,
   "metadata": {},
   "outputs": [
    {
     "name": "stdout",
     "output_type": "stream",
     "text": [
      "Results for linear regression pipeline on training data\n",
      " Default settings\n",
      "Internal parameters:\n",
      " Score 0.7024820582511935\n",
      "MAE is  3.229003703209161\n",
      "RMSE is  4.2789696537676765\n",
      "MSE is  18.309581297864668\n",
      "R^2  0.7024820582511935\n",
      "\n",
      "Results for linear regression pipeline on test data\n",
      "MAE is  3.4980689722029568\n",
      "RMSE is  4.3431313131130125\n",
      "MSE is  18.862789602942758\n",
      "R^2  0.676595018260545\n"
     ]
    },
    {
     "name": "stderr",
     "output_type": "stream",
     "text": [
      "C:\\Users\\kamal\\AppData\\Local\\Temp\\ipykernel_22572\\1696957029.py:12: FutureWarning: A value is trying to be set on a copy of a DataFrame or Series through chained assignment using an inplace method.\n",
      "The behavior will change in pandas 3.0. This inplace method will never work because the intermediate object on which we are setting values always behaves as a copy.\n",
      "\n",
      "For example, when doing 'df[col].method(value, inplace=True)', try using 'df.method({col: value}, inplace=True)' or df[col] = df[col].method(value) instead, to perform the operation inplace on the original object.\n",
      "\n",
      "\n",
      "  autompg_df['weight'].fillna(weight_median, inplace=True)\n",
      "C:\\Users\\kamal\\AppData\\Local\\Temp\\ipykernel_22572\\1696957029.py:13: FutureWarning: A value is trying to be set on a copy of a DataFrame or Series through chained assignment using an inplace method.\n",
      "The behavior will change in pandas 3.0. This inplace method will never work because the intermediate object on which we are setting values always behaves as a copy.\n",
      "\n",
      "For example, when doing 'df[col].method(value, inplace=True)', try using 'df.method({col: value}, inplace=True)' or df[col] = df[col].method(value) instead, to perform the operation inplace on the original object.\n",
      "\n",
      "\n",
      "  autompg_df['displacement'].fillna(displacement_median, inplace=True)\n"
     ]
    }
   ],
   "source": [
    "import pandas as pd\n",
    "from sklearn.model_selection import train_test_split\n",
    "from sklearn.pipeline import Pipeline\n",
    "from sklearn.preprocessing import StandardScaler\n",
    "from sklearn.linear_model import LinearRegression\n",
    "from sklearn.metrics import mean_squared_error, r2_score\n",
    "\n",
    "weight_median = autompg_df['weight'].median()\n",
    "displacement_median = autompg_df['displacement'].median()\n",
    "\n",
    "# replace missing values by median \n",
    "autompg_df['weight'].fillna(weight_median, inplace=True)\n",
    "autompg_df['displacement'].fillna(displacement_median, inplace=True)\n",
    "\n",
    "\n",
    "# Split the data into training and testing sets\n",
    "train_set, test_set = train_test_split(autompg_df,\n",
    " test_size=0.2, random_state=123)\n",
    "\n",
    "X = train_set[['weight','displacement']]\n",
    "y = train_set['mpg']\n",
    "X_test = test_set[['weight','displacement']]\n",
    "y_test = test_set['mpg']\n",
    "\n",
    "# Create a pipeline\n",
    "pipeline = Pipeline([\n",
    "    ('scaler', StandardScaler()),\n",
    "    ('regressor', LinearRegression())\n",
    "])\n",
    "\n",
    "# Train the model\n",
    "pipeline.fit(X,y)\n",
    "y_pred = pipeline.predict(X)\n",
    "print('Results for linear regression pipeline on training data')\n",
    "print(' Default settings')\n",
    "print('Internal parameters:')\n",
    "#print(' Bias is ', pipeline.intercept_)\n",
    "#print(' Coefficients', pipeline.coef_)\n",
    "print(' Score', pipeline.score(X,y))\n",
    "print('MAE is ', mean_absolute_error(y, y_pred))\n",
    "print('RMSE is ', np.sqrt(mean_squared_error(y, y_pred)))\n",
    "print('MSE is ', mean_squared_error(y, y_pred))\n",
    "print('R^2 ', r2_score(y,y_pred))\n",
    "\n",
    "y_test_pred = pipeline.predict(X_test)\n",
    "print()\n",
    "print('Results for linear regression pipeline on test data')\n",
    "print('MAE is ', mean_absolute_error(y_test, y_test_pred))\n",
    "print('RMSE is ', np.sqrt(mean_squared_error(y_test,\n",
    "y_test_pred)))\n",
    "print('MSE is ', mean_squared_error(y_test, y_test_pred))\n",
    "print('R^2 ', r2_score(y_test,y_test_pred))"
   ]
  },
  {
   "cell_type": "markdown",
   "metadata": {},
   "source": [
    "#### Results\n",
    "Basic results for our pipeline regression models to predict mpg on the autompg data set\n",
    "| Model | Training Features | Set | RMSE | R2 |\n",
    "|:---|:---|:---|:---|:---|\n",
    "|Pipeline Linear Regression|weight, displacement|Training|4.28|0.70|\n",
    "|Pipeline Linear Regression|weight, displacement|Testing|4.34|0.68|"
   ]
  },
  {
   "cell_type": "markdown",
   "metadata": {},
   "source": [
    "### Pipeline for polynomial regression with degree 3"
   ]
  },
  {
   "cell_type": "code",
   "execution_count": 40,
   "metadata": {},
   "outputs": [
    {
     "name": "stdout",
     "output_type": "stream",
     "text": [
      "Results for polynomial regression with degree 3 pipeline on training data\n",
      " Default settings\n",
      "Internal parameters:\n",
      " Score 0.7381155451977077\n",
      "MAE is  2.9212864937227523\n",
      "RMSE is  4.014555682409569\n",
      "MSE is  16.116657327166966\n",
      "R^2  0.7381155451977077\n",
      "\n",
      "Results for polynomial regression with degree 3 Pipeline on test data\n",
      "MAE is  3.2166525783051085\n",
      "RMSE is  4.458763752480806\n",
      "MSE is  19.88057420043672\n",
      "R^2  0.6591449689255366\n"
     ]
    },
    {
     "name": "stderr",
     "output_type": "stream",
     "text": [
      "C:\\Users\\kamal\\AppData\\Local\\Temp\\ipykernel_22572\\3866276918.py:14: FutureWarning: A value is trying to be set on a copy of a DataFrame or Series through chained assignment using an inplace method.\n",
      "The behavior will change in pandas 3.0. This inplace method will never work because the intermediate object on which we are setting values always behaves as a copy.\n",
      "\n",
      "For example, when doing 'df[col].method(value, inplace=True)', try using 'df.method({col: value}, inplace=True)' or df[col] = df[col].method(value) instead, to perform the operation inplace on the original object.\n",
      "\n",
      "\n",
      "  autompg_df['weight'].fillna(weight_median, inplace=True)\n",
      "C:\\Users\\kamal\\AppData\\Local\\Temp\\ipykernel_22572\\3866276918.py:15: FutureWarning: A value is trying to be set on a copy of a DataFrame or Series through chained assignment using an inplace method.\n",
      "The behavior will change in pandas 3.0. This inplace method will never work because the intermediate object on which we are setting values always behaves as a copy.\n",
      "\n",
      "For example, when doing 'df[col].method(value, inplace=True)', try using 'df.method({col: value}, inplace=True)' or df[col] = df[col].method(value) instead, to perform the operation inplace on the original object.\n",
      "\n",
      "\n",
      "  autompg_df['displacement'].fillna(displacement_median, inplace=True)\n"
     ]
    }
   ],
   "source": [
    "import pandas as pd\n",
    "from sklearn.model_selection import train_test_split\n",
    "from sklearn.pipeline import Pipeline\n",
    "from sklearn.preprocessing import StandardScaler\n",
    "from sklearn.linear_model import LinearRegression\n",
    "from sklearn.metrics import mean_squared_error, r2_score\n",
    "from sklearn.preprocessing import PolynomialFeatures\n",
    "\n",
    "\n",
    "weight_median = autompg_df['weight'].median()\n",
    "displacement_median = autompg_df['displacement'].median()\n",
    "\n",
    "# replace missing values by median \n",
    "autompg_df['weight'].fillna(weight_median, inplace=True)\n",
    "autompg_df['displacement'].fillna(displacement_median, inplace=True)\n",
    "\n",
    "\n",
    "# Split the data into training and testing sets\n",
    "train_set, test_set = train_test_split(autompg_df,\n",
    " test_size=0.2, random_state=123)\n",
    "\n",
    "power = 3\n",
    "poly_process = PolynomialFeatures(degree=power, include_bias=False)\n",
    "X = train_set[['weight','displacement']]\n",
    "y = train_set['mpg']\n",
    "X_poly = poly_process.fit_transform(X)\n",
    "X_test = test_set[['weight','displacement']]\n",
    "y_test = test_set['mpg']\n",
    "X_poly_test = poly_process.fit_transform(X_test)\n",
    "\n",
    "# Create a pipeline\n",
    "pipeline = Pipeline([    \n",
    "    ('scaler', StandardScaler()),\n",
    "    ('regressor', LinearRegression())\n",
    "])\n",
    "\n",
    "# Train the model\n",
    "pipeline.fit(X_poly,y)\n",
    "y_pred = pipeline.predict(X_poly)\n",
    "print('Results for polynomial regression with degree 3 pipeline on training data')\n",
    "print(' Default settings')\n",
    "print('Internal parameters:')\n",
    "#print(' Bias is ', pipeline.intercept_)\n",
    "#print(' Coefficients', pipeline.coef_)\n",
    "print(' Score', pipeline.score(X_poly,y))\n",
    "print('MAE is ', mean_absolute_error(y, y_pred))\n",
    "print('RMSE is ', np.sqrt(mean_squared_error(y, y_pred)))\n",
    "print('MSE is ', mean_squared_error(y, y_pred))\n",
    "print('R^2 ', r2_score(y,y_pred))\n",
    "\n",
    "y_test_pred = pipeline.predict(X_poly_test)\n",
    "print()\n",
    "print('Results for polynomial regression with degree 3 Pipeline on test data')\n",
    "print('MAE is ', mean_absolute_error(y_test, y_test_pred))\n",
    "print('RMSE is ', np.sqrt(mean_squared_error(y_test,y_test_pred)))\n",
    "print('MSE is ', mean_squared_error(y_test, y_test_pred))\n",
    "print('R^2 ', r2_score(y_test,y_test_pred))"
   ]
  },
  {
   "cell_type": "markdown",
   "metadata": {},
   "source": [
    "#### Results\n",
    "Basic results for our pipeline polynomial regression models to predict mpg on the autompg data set\n",
    "| Model | Training Features | Set | RMSE | R2 |\n",
    "|:---|:---|:---|:---|:---|\n",
    "|Pipeline Linear Regression|weight, displacement|Training|4.01|0.74|\n",
    "|Pipeline Linear Regression|weight, displacement|Testing|4.45|0.66|"
   ]
  }
 ],
 "metadata": {
  "kernelspec": {
   "display_name": ".venv",
   "language": "python",
   "name": "python3"
  },
  "language_info": {
   "codemirror_mode": {
    "name": "ipython",
    "version": 3
   },
   "file_extension": ".py",
   "mimetype": "text/x-python",
   "name": "python",
   "nbconvert_exporter": "python",
   "pygments_lexer": "ipython3",
   "version": "3.12.1"
  }
 },
 "nbformat": 4,
 "nbformat_minor": 2
}
